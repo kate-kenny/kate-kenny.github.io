{
 "cells": [
  {
   "cell_type": "code",
   "execution_count": 3,
   "id": "515f7f63-6af9-4053-adc2-937cb1336ed0",
   "metadata": {},
   "outputs": [
    {
     "ename": "SyntaxError",
     "evalue": "invalid syntax (1208176260.py, line 14)",
     "output_type": "error",
     "traceback": [
      "\u001b[0;36m  Cell \u001b[0;32mIn[3], line 14\u001b[0;36m\u001b[0m\n\u001b[0;31m    while diff != 0:\u001b[0m\n\u001b[0m    ^\u001b[0m\n\u001b[0;31mSyntaxError\u001b[0m\u001b[0;31m:\u001b[0m invalid syntax\n"
     ]
    }
   ],
   "source": [
    "import numpy as np \n",
    "\n",
    "alpha = .01\n",
    "z_0 = np.random.rand(1, 2)\n",
    "\n",
    "\n",
    "def f(x): \n",
    "    return np.sin(x[0]*x[1])\n",
    "\n",
    "def grad(z): \n",
    "    return np.array([z[1]*np.cos(z[0]*z[1]), z[0]*np.cos(z[0]*z[1]) \n",
    "\n",
    "def find_min(\n",
    "while diff != 0: \n",
    "    z_new = z_0 + aplha*grad(z_0)\n",
    "    diff = z_0 - z_new\n",
    "    \n",
    "    z_0 = z_new\n"
   ]
  }
 ],
 "metadata": {
  "kernelspec": {
   "display_name": "Python 3 (ipykernel)",
   "language": "python",
   "name": "python3"
  },
  "language_info": {
   "codemirror_mode": {
    "name": "ipython",
    "version": 3
   },
   "file_extension": ".py",
   "mimetype": "text/x-python",
   "name": "python",
   "nbconvert_exporter": "python",
   "pygments_lexer": "ipython3",
   "version": "3.9.16"
  }
 },
 "nbformat": 4,
 "nbformat_minor": 5
}
