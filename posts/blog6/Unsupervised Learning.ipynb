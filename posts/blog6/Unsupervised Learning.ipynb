{
 "cells": [
  {
   "cell_type": "markdown",
   "id": "a4009e72",
   "metadata": {},
   "source": [
    "# Unsupervised Learning with Linear Algebra\n",
    "## Kate Kenny \n",
    "### CS 0451"
   ]
  },
  {
   "cell_type": "code",
   "execution_count": null,
   "id": "8da874a0",
   "metadata": {},
   "outputs": [],
   "source": [
    "In this"
   ]
  }
 ],
 "metadata": {
  "kernelspec": {
   "display_name": "Python 3 (ipykernel)",
   "language": "python",
   "name": "python3"
  },
  "language_info": {
   "codemirror_mode": {
    "name": "ipython",
    "version": 3
   },
   "file_extension": ".py",
   "mimetype": "text/x-python",
   "name": "python",
   "nbconvert_exporter": "python",
   "pygments_lexer": "ipython3",
   "version": "3.9.16"
  }
 },
 "nbformat": 4,
 "nbformat_minor": 5
}
