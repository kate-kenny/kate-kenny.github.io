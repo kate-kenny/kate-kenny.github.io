{
 "cells": [
  {
   "cell_type": "raw",
   "id": "4c64180e",
   "metadata": {},
   "source": [
    "---\n",
    "title: |\n",
    "  Linear Regression\n",
    "author: Kate Kenny\n",
    "format: \n",
    "  html: \n",
    "    code-fold: false\n",
    "    cache: true\n",
    "    callout-appearance: minimal\n",
    "    cap-location: margin\n",
    "---"
   ]
  },
  {
   "cell_type": "markdown",
   "id": "579b8424",
   "metadata": {},
   "source": [
    "# Linear Regression \n",
    "## Kate Kenny \n",
    "### CS 0451\n",
    "\n",
    "In this blog, we will be implementing linear regression in two ways. The first is an exact, analytical implementation of least-sqaures linear regression and the second is a gradient descent implementation. \n",
    "\n",
    "The loss function for this empirical risk minimization problem is defined as follows. \n",
    "\n",
    "$L(\\mathbf{w}) = ||\\mathbf{Xw - y}||^2_2 $\n",
    "\n",
    "To start, we want to take the gradient of $L(\\mathbf{w})$ with respect to $\\mathbf{\\hat{w}}$. \n",
    "\n",
    "$ \\nabla L(\\mathbf{w}) = 2\\mathbf{X^T (Xw - y)}$\n",
    "\n",
    "From here, we will implement both of our fit methods, test them, and then perform some experiements using the linear regression model. "
   ]
  },
  {
   "cell_type": "markdown",
   "id": "e4ee3e59",
   "metadata": {},
   "source": [
    "## Demo\n",
    "### Generate and Plot Data\n",
    "\n",
    "This initial example is p=1 for visualization purposes. Later in this post we will experiment with p values of different sizes. "
   ]
  },
  {
   "cell_type": "code",
   "execution_count": 50,
   "id": "fd527c7d",
   "metadata": {},
   "outputs": [
    {
     "data": {
      "image/png": "[encoded data removed]",
      "text/plain": [
       "<Figure size 640x480 with 2 Axes>"
      ]
     },
     "metadata": {},
     "output_type": "display_data"
    }
   ],
   "source": [
    "import numpy as np\n",
    "from matplotlib import pyplot as plt\n",
    "\n",
    "def pad(X):\n",
    "    return np.append(X, np.ones((X.shape[0], 1)), 1)\n",
    "\n",
    "def LR_data(n_train = 100, n_val = 100, p_features = 1, noise = .1, w = None):\n",
    "    if w is None: \n",
    "        w = np.random.rand(p_features + 1) + .2\n",
    "    \n",
    "    X_train = np.random.rand(n_train, p_features)\n",
    "    y_train = pad(X_train)@w + noise*np.random.randn(n_train)\n",
    "\n",
    "    X_val = np.random.rand(n_val, p_features)\n",
    "    y_val = pad(X_val)@w + noise*np.random.randn(n_val)\n",
    "    \n",
    "    return X_train, y_train, X_val, y_val\n",
    "\n",
    "#generate data \n",
    "n_train = 100\n",
    "n_val = 100\n",
    "p_features = 1\n",
    "noise = 0.2\n",
    "\n",
    "# create some data\n",
    "X_train, y_train, X_val, y_val = LR_data(n_train, n_val, p_features, noise)\n",
    "\n",
    "# plot it\n",
    "fig, axarr = plt.subplots(1, 2, sharex = True, sharey = True)\n",
    "axarr[0].scatter(X_train, y_train)\n",
    "axarr[1].scatter(X_val, y_val)\n",
    "labs = axarr[0].set(title = \"Training\", xlabel = \"x\", ylabel = \"y\")\n",
    "labs = axarr[1].set(title = \"Validation\", xlabel = \"x\")\n",
    "plt.tight_layout()\n"
   ]
  },
  {
   "cell_type": "markdown",
   "id": "17a45c41",
   "metadata": {},
   "source": [
    "### Test Fit Methods\n",
    "Let's use this data to test both our analytical and gradient fit methods. "
   ]
  },
  {
   "cell_type": "code",
   "execution_count": 77,
   "id": "bb0686a8",
   "metadata": {},
   "outputs": [
    {
     "name": "stdout",
     "output_type": "stream",
     "text": [
      "Unexpected exception formatting exception. Falling back to standard exception\n"
     ]
    },
    {
     "name": "stderr",
     "output_type": "stream",
     "text": [
      "Traceback (most recent call last):\n",
      "  File \"/Users/katekenny/opt/anaconda3/envs/ml-0451/lib/python3.9/site-packages/IPython/core/interactiveshell.py\", line 3442, in run_code\n",
      "    exec(code_obj, self.user_global_ns, self.user_ns)\n",
      "  File \"/var/folders/vk/xj75_42s2sg_qkc3_dxpnbww0000gn/T/ipykernel_67985/4121049780.py\", line 5, in <module>\n",
      "    LR.fit_analytical(pad(X_train), y_train)\n",
      "  File \"/Users/katekenny/Documents/cs0451/GitHub/kate-kenny.github.io/posts/blog4/linear_regression.py\", line 33, in fit_analytical\n",
      "    self.w = np.linalg.inv(X.T@X)@X.T@y\n",
      "  File \"<__array_function__ internals>\", line 180, in inv\n",
      "  File \"/Users/katekenny/opt/anaconda3/envs/ml-0451/lib/python3.9/site-packages/numpy/linalg/linalg.py\", line 552, in inv\n",
      "    ainv = _umath_linalg.inv(a, signature=signature, extobj=extobj)\n",
      "  File \"/Users/katekenny/opt/anaconda3/envs/ml-0451/lib/python3.9/site-packages/numpy/linalg/linalg.py\", line 89, in _raise_linalgerror_singular\n",
      "    raise LinAlgError(\"Singular matrix\")\n",
      "numpy.linalg.LinAlgError: Singular matrix\n",
      "\n",
      "During handling of the above exception, another exception occurred:\n",
      "\n",
      "Traceback (most recent call last):\n",
      "  File \"/Users/katekenny/opt/anaconda3/envs/ml-0451/lib/python3.9/site-packages/IPython/core/interactiveshell.py\", line 2057, in showtraceback\n",
      "    stb = self.InteractiveTB.structured_traceback(\n",
      "  File \"/Users/katekenny/opt/anaconda3/envs/ml-0451/lib/python3.9/site-packages/IPython/core/ultratb.py\", line 1118, in structured_traceback\n",
      "    return FormattedTB.structured_traceback(\n",
      "  File \"/Users/katekenny/opt/anaconda3/envs/ml-0451/lib/python3.9/site-packages/IPython/core/ultratb.py\", line 1012, in structured_traceback\n",
      "    return VerboseTB.structured_traceback(\n",
      "  File \"/Users/katekenny/opt/anaconda3/envs/ml-0451/lib/python3.9/site-packages/IPython/core/ultratb.py\", line 865, in structured_traceback\n",
      "    formatted_exception = self.format_exception_as_a_whole(etype, evalue, etb, number_of_lines_of_context,\n",
      "  File \"/Users/katekenny/opt/anaconda3/envs/ml-0451/lib/python3.9/site-packages/IPython/core/ultratb.py\", line 818, in format_exception_as_a_whole\n",
      "    frames.append(self.format_record(r))\n",
      "  File \"/Users/katekenny/opt/anaconda3/envs/ml-0451/lib/python3.9/site-packages/IPython/core/ultratb.py\", line 736, in format_record\n",
      "    result += ''.join(_format_traceback_lines(frame_info.lines, Colors, self.has_colors, lvals))\n",
      "  File \"/Users/katekenny/opt/anaconda3/envs/ml-0451/lib/python3.9/site-packages/stack_data/utils.py\", line 145, in cached_property_wrapper\n",
      "    value = obj.__dict__[self.func.__name__] = self.func(obj)\n",
      "  File \"/Users/katekenny/opt/anaconda3/envs/ml-0451/lib/python3.9/site-packages/stack_data/core.py\", line 698, in lines\n",
      "    pieces = self.included_pieces\n",
      "  File \"/Users/katekenny/opt/anaconda3/envs/ml-0451/lib/python3.9/site-packages/stack_data/utils.py\", line 145, in cached_property_wrapper\n",
      "    value = obj.__dict__[self.func.__name__] = self.func(obj)\n",
      "  File \"/Users/katekenny/opt/anaconda3/envs/ml-0451/lib/python3.9/site-packages/stack_data/core.py\", line 649, in included_pieces\n",
      "    pos = scope_pieces.index(self.executing_piece)\n",
      "  File \"/Users/katekenny/opt/anaconda3/envs/ml-0451/lib/python3.9/site-packages/stack_data/utils.py\", line 145, in cached_property_wrapper\n",
      "    value = obj.__dict__[self.func.__name__] = self.func(obj)\n",
      "  File \"/Users/katekenny/opt/anaconda3/envs/ml-0451/lib/python3.9/site-packages/stack_data/core.py\", line 628, in executing_piece\n",
      "    return only(\n",
      "  File \"/Users/katekenny/opt/anaconda3/envs/ml-0451/lib/python3.9/site-packages/executing/executing.py\", line 164, in only\n",
      "    raise NotOneValueFound('Expected one value, found 0')\n",
      "executing.executing.NotOneValueFound: Expected one value, found 0\n"
     ]
    }
   ],
   "source": [
    "from linear_regression import LinearRegression\n",
    "\n",
    "\n",
    "LR = LinearRegression()\n",
    "LR.fit_analytical(pad(X_train), y_train)\n",
    "\n",
    "print(f\"Training score = {LR.score(X_train, y_train).round(4)}\")\n",
    "print(f\"Validation score = {LR.score(X_val, y_val).round(4)}\")\n",
    "\n"
   ]
  }
 ],
 "metadata": {
  "kernelspec": {
   "display_name": "Python 3 (ipykernel)",
   "language": "python",
   "name": "python3"
  },
  "language_info": {
   "codemirror_mode": {
    "name": "ipython",
    "version": 3
   },
   "file_extension": ".py",
   "mimetype": "text/x-python",
   "name": "python",
   "nbconvert_exporter": "python",
   "pygments_lexer": "ipython3",
   "version": "3.9.16"
  }
 },
 "nbformat": 4,
 "nbformat_minor": 5
}
